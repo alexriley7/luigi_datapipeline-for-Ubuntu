{
  "nbformat": 4,
  "nbformat_minor": 0,
  "metadata": {
    "colab": {
      "provenance": [],
      "authorship_tag": "ABX9TyMMZI4rYE1lslAOxrz/LknE",
      "include_colab_link": true
    },
    "kernelspec": {
      "name": "python3",
      "display_name": "Python 3"
    },
    "language_info": {
      "name": "python"
    }
  },
  "cells": [
    {
      "cell_type": "markdown",
      "metadata": {
        "id": "view-in-github",
        "colab_type": "text"
      },
      "source": [
        "<a href=\"https://colab.research.google.com/github/alexriley7/luigi_datapipeline-for-Ubuntu/blob/main/luigi_datapipeline_for_Ubuntu.ipynb\" target=\"_parent\"><img src=\"https://colab.research.google.com/assets/colab-badge.svg\" alt=\"Open In Colab\"/></a>"
      ]
    },
    {
      "cell_type": "code",
      "execution_count": 1,
      "metadata": {
        "colab": {
          "base_uri": "https://localhost:8080/"
        },
        "id": "YYLFxp75SCzr",
        "outputId": "d621bcec-5fd2-4db3-f329-51a3c2da1ec9"
      },
      "outputs": [
        {
          "output_type": "stream",
          "name": "stdout",
          "text": [
            "--2022-09-02 22:19:07--  https://dlcdn.apache.org/spark/spark-3.3.0/spark-3.3.0-bin-hadoop3.tgz\n",
            "Resolving dlcdn.apache.org (dlcdn.apache.org)... 151.101.2.132, 2a04:4e42::644\n",
            "Connecting to dlcdn.apache.org (dlcdn.apache.org)|151.101.2.132|:443... connected.\n",
            "HTTP request sent, awaiting response... 200 OK\n",
            "Length: 299321244 (285M) [application/x-gzip]\n",
            "Saving to: ‘spark-3.3.0-bin-hadoop3.tgz’\n",
            "\n",
            "spark-3.3.0-bin-had 100%[===================>] 285.45M   244MB/s    in 1.2s    \n",
            "\n",
            "2022-09-02 22:19:09 (244 MB/s) - ‘spark-3.3.0-bin-hadoop3.tgz’ saved [299321244/299321244]\n",
            "\n"
          ]
        }
      ],
      "source": [
        "!wget https://dlcdn.apache.org/spark/spark-3.3.0/spark-3.3.0-bin-hadoop3.tgz"
      ]
    },
    {
      "cell_type": "code",
      "source": [
        "import os"
      ],
      "metadata": {
        "id": "4XF_vKaSSOz-"
      },
      "execution_count": 2,
      "outputs": []
    },
    {
      "cell_type": "code",
      "source": [
        "!pip install findspark"
      ],
      "metadata": {
        "colab": {
          "base_uri": "https://localhost:8080/"
        },
        "id": "yeCU_t7rSRl1",
        "outputId": "23dbfa63-d263-4fa4-9956-8eeb1f89667f"
      },
      "execution_count": 3,
      "outputs": [
        {
          "output_type": "stream",
          "name": "stdout",
          "text": [
            "Looking in indexes: https://pypi.org/simple, https://us-python.pkg.dev/colab-wheels/public/simple/\n",
            "Collecting findspark\n",
            "  Downloading findspark-2.0.1-py2.py3-none-any.whl (4.4 kB)\n",
            "Installing collected packages: findspark\n",
            "Successfully installed findspark-2.0.1\n"
          ]
        }
      ]
    },
    {
      "cell_type": "code",
      "source": [
        "import findspark"
      ],
      "metadata": {
        "id": "xNANcG6oSZFc"
      },
      "execution_count": 4,
      "outputs": []
    },
    {
      "cell_type": "code",
      "source": [
        "os.environ[\"JAVA_HOME\"] = \"/usr/lib/jvm/java-11-openjdk-amd64\"\n",
        "os.environ[\"SPARK_HOME\"] = \"/content/spark-3.3.0-bin-hadoop3\""
      ],
      "metadata": {
        "id": "3oSMSMyNSat1"
      },
      "execution_count": 5,
      "outputs": []
    },
    {
      "cell_type": "code",
      "source": [
        "mkdir luigi-demo"
      ],
      "metadata": {
        "id": "kj5z05rSSgB0"
      },
      "execution_count": 8,
      "outputs": []
    },
    {
      "cell_type": "code",
      "source": [
        "cd luigi-demo"
      ],
      "metadata": {
        "colab": {
          "base_uri": "https://localhost:8080/"
        },
        "id": "q9sPk1HrSnmG",
        "outputId": "3abb4a5e-2b7a-48b7-9aba-675875722f54"
      },
      "execution_count": 9,
      "outputs": [
        {
          "output_type": "stream",
          "name": "stdout",
          "text": [
            "/content/luigi-demo\n"
          ]
        }
      ]
    },
    {
      "cell_type": "code",
      "source": [
        "pip install wheel luigi beautifulsoup4 requests"
      ],
      "metadata": {
        "colab": {
          "base_uri": "https://localhost:8080/"
        },
        "id": "XTqYK3DBSq7L",
        "outputId": "efc24c2d-ebc9-46ad-aa5b-f8ca912b835f"
      },
      "execution_count": 12,
      "outputs": [
        {
          "output_type": "stream",
          "name": "stdout",
          "text": [
            "Looking in indexes: https://pypi.org/simple, https://us-python.pkg.dev/colab-wheels/public/simple/\n",
            "Requirement already satisfied: wheel in /usr/local/lib/python3.7/dist-packages (0.37.1)\n",
            "Collecting luigi\n",
            "  Downloading luigi-3.1.1.tar.gz (1.2 MB)\n",
            "\u001b[K     |████████████████████████████████| 1.2 MB 13.1 MB/s \n",
            "\u001b[?25hRequirement already satisfied: beautifulsoup4 in /usr/local/lib/python3.7/dist-packages (4.6.3)\n",
            "Requirement already satisfied: requests in /usr/local/lib/python3.7/dist-packages (2.23.0)\n",
            "Requirement already satisfied: python-dateutil<3,>=2.7.5 in /usr/local/lib/python3.7/dist-packages (from luigi) (2.8.2)\n",
            "Requirement already satisfied: tenacity<9,>=8 in /usr/local/lib/python3.7/dist-packages (from luigi) (8.0.1)\n",
            "Collecting python-daemon\n",
            "  Downloading python_daemon-2.3.1-py2.py3-none-any.whl (34 kB)\n",
            "Requirement already satisfied: tornado<7,>=5.0 in /usr/local/lib/python3.7/dist-packages (from luigi) (5.1.1)\n",
            "Requirement already satisfied: six>=1.5 in /usr/local/lib/python3.7/dist-packages (from python-dateutil<3,>=2.7.5->luigi) (1.15.0)\n",
            "Requirement already satisfied: chardet<4,>=3.0.2 in /usr/local/lib/python3.7/dist-packages (from requests) (3.0.4)\n",
            "Requirement already satisfied: idna<3,>=2.5 in /usr/local/lib/python3.7/dist-packages (from requests) (2.10)\n",
            "Requirement already satisfied: certifi>=2017.4.17 in /usr/local/lib/python3.7/dist-packages (from requests) (2022.6.15)\n",
            "Requirement already satisfied: urllib3!=1.25.0,!=1.25.1,<1.26,>=1.21.1 in /usr/local/lib/python3.7/dist-packages (from requests) (1.24.3)\n",
            "Requirement already satisfied: docutils in /usr/local/lib/python3.7/dist-packages (from python-daemon->luigi) (0.17.1)\n",
            "Collecting lockfile>=0.10\n",
            "  Downloading lockfile-0.12.2-py2.py3-none-any.whl (13 kB)\n",
            "Requirement already satisfied: setuptools in /usr/local/lib/python3.7/dist-packages (from python-daemon->luigi) (57.4.0)\n",
            "Building wheels for collected packages: luigi\n",
            "  Building wheel for luigi (setup.py) ... \u001b[?25l\u001b[?25hdone\n",
            "  Created wheel for luigi: filename=luigi-3.1.1-py3-none-any.whl size=1082710 sha256=d5eb9c9b4205313f19868450b9d65e5d464ffd64faf4bc13ad0adc02bf1bbbfb\n",
            "  Stored in directory: /root/.cache/pip/wheels/44/2d/25/2996d02abce93a0ee0ce98f206c8a7241f1ac89c5150f3430f\n",
            "Successfully built luigi\n",
            "Installing collected packages: lockfile, python-daemon, luigi\n",
            "Successfully installed lockfile-0.12.2 luigi-3.1.1 python-daemon-2.3.1\n"
          ]
        }
      ]
    },
    {
      "cell_type": "code",
      "source": [
        "import luigi\n",
        "\n",
        "class HelloLuigi(luigi.Task):\n",
        "\n",
        "    def output(self):\n",
        "        return luigi.LocalTarget('hello-luigi.txt')\n",
        "\n",
        "    def run(self):\n",
        "        with self.output().open(\"w\") as outfile:\n",
        "            outfile.write(\"Hello Luigi!\")\n",
        "\n"
      ],
      "metadata": {
        "id": "EZ2KB2wxTDwW"
      },
      "execution_count": 15,
      "outputs": []
    },
    {
      "cell_type": "code",
      "source": [
        "python3 -m luigi --module hello-world HelloLuigi --local-scheduler"
      ],
      "metadata": {
        "colab": {
          "base_uri": "https://localhost:8080/",
          "height": 133
        },
        "id": "GDtMlaPLTikz",
        "outputId": "4cb15cca-6cbc-4901-8731-5a981d7617c3"
      },
      "execution_count": 17,
      "outputs": [
        {
          "output_type": "error",
          "ename": "SyntaxError",
          "evalue": "ignored",
          "traceback": [
            "\u001b[0;36m  File \u001b[0;32m\"<ipython-input-17-1a5ed05e7295>\"\u001b[0;36m, line \u001b[0;32m1\u001b[0m\n\u001b[0;31m    python3 -m luigi --module hello-world HelloLuigi --local-scheduler\u001b[0m\n\u001b[0m                   ^\u001b[0m\n\u001b[0;31mSyntaxError\u001b[0m\u001b[0;31m:\u001b[0m invalid syntax\n"
          ]
        }
      ]
    },
    {
      "cell_type": "code",
      "source": [
        "mkdir data\n",
        "mkdir data/counts\n",
        "mkdir data/downloads"
      ],
      "metadata": {
        "id": "t4vg_vAyTzOs"
      },
      "execution_count": null,
      "outputs": []
    },
    {
      "cell_type": "code",
      "source": [
        "import requests\n",
        "import luigi\n",
        "from bs4 import BeautifulSoup\n",
        "\n",
        "\n",
        "class GetTopBooks(luigi.Task):\n",
        "    \"\"\"\n",
        "    Get list of the most popular books from Project Gutenberg\n",
        "    \"\"\"\n",
        "\n",
        "    def output(self):\n",
        "        return luigi.LocalTarget(\"data/books_list.txt\")\n",
        "\n",
        "    def run(self):\n",
        "        resp = requests.get(\"http://www.gutenberg.org/browse/scores/top\")\n",
        "\n",
        "        soup = BeautifulSoup(resp.content, \"html.parser\")\n",
        "\n",
        "        pageHeader = soup.find_all(\"h2\", string=\"Top 100 EBooks yesterday\")[0]\n",
        "        listTop = pageHeader.find_next_sibling(\"ol\")\n",
        "\n",
        "        with self.output().open(\"w\") as f:\n",
        "            for result in listTop.select(\"li>a\"):\n",
        "                if \"/ebooks/\" in result[\"href\"]:\n",
        "                    f.write(\"http://www.gutenberg.org{link}.txt.utf-8\\n\"\n",
        "                        .format(\n",
        "                            link=result[\"href\"]\n",
        "                        )\n",
        "                    )"
      ],
      "metadata": {
        "id": "4Vu4VWfmTzms"
      },
      "execution_count": null,
      "outputs": []
    },
    {
      "cell_type": "code",
      "source": [
        "python -m luigi --module word-frequency GetTopBooks --local-scheduler"
      ],
      "metadata": {
        "id": "CuSgpM_0T17P"
      },
      "execution_count": null,
      "outputs": []
    },
    {
      "cell_type": "code",
      "source": [
        "cat data/books_list.txt"
      ],
      "metadata": {
        "id": "LZGi1vqFT3ru"
      },
      "execution_count": null,
      "outputs": []
    },
    {
      "cell_type": "code",
      "source": [
        "sudo ufw allow 8082/tcp"
      ],
      "metadata": {
        "id": "np0yoAzPT5yr"
      },
      "execution_count": null,
      "outputs": []
    },
    {
      "cell_type": "code",
      "source": [
        "sudo sh -c \". luigi-venv/bin/activate ;luigid --background --port 8082\""
      ],
      "metadata": {
        "id": "GUoNwO0oUB0L"
      },
      "execution_count": null,
      "outputs": []
    },
    {
      "cell_type": "code",
      "source": [
        "luigid --port 8082 > /dev/null 2> /dev/null &"
      ],
      "metadata": {
        "id": "yvO2FidAUDsz"
      },
      "execution_count": null,
      "outputs": []
    },
    {
      "cell_type": "code",
      "source": [
        "python -m luigi --module word-frequency GetTopBooks"
      ],
      "metadata": {
        "id": "Ehz1FIn4UGEr"
      },
      "execution_count": null,
      "outputs": []
    },
    {
      "cell_type": "code",
      "source": [
        ". . .\n",
        "class DownloadBooks(luigi.Task):\n",
        "    \"\"\"\n",
        "    Download a specified list of books\n",
        "    \"\"\"\n",
        "    FileID = luigi.IntParameter()\n",
        "\n",
        "    REPLACE_LIST = \"\"\".,\"';_[]:*-\"\"\"\n",
        "\n",
        "    def requires(self):\n",
        "        return GetTopBooks()\n",
        "\n",
        "    def output(self):\n",
        "        return luigi.LocalTarget(\"data/downloads/{}.txt\".format(self.FileID))\n",
        "\n",
        "    def run(self):\n",
        "        with self.input().open(\"r\") as i:\n",
        "            URL = i.read().splitlines()[self.FileID]\n",
        "\n",
        "            with self.output().open(\"w\") as outfile:\n",
        "                book_downloads = requests.get(URL)\n",
        "                book_text = book_downloads.text\n",
        "\n",
        "                for char in self.REPLACE_LIST:\n",
        "                    book_text = book_text.replace(char, \" \")\n",
        "\n",
        "                book_text = book_text.lower()\n",
        "                outfile.write(book_text)"
      ],
      "metadata": {
        "id": "FTFV2RIMUIIT"
      },
      "execution_count": null,
      "outputs": []
    },
    {
      "cell_type": "code",
      "source": [
        "class CountWords(luigi.Task):\n",
        "    \"\"\"\n",
        "    Count the frequency of the most common words from a file\n",
        "    \"\"\"\n",
        "\n",
        "    FileID = luigi.IntParameter()\n",
        "\n",
        "    def requires(self):\n",
        "        return DownloadBooks(FileID=self.FileID)\n",
        "\n",
        "    def output(self):\n",
        "        return luigi.LocalTarget(\n",
        "            \"data/counts/count_{}.pickle\".format(self.FileID),\n",
        "            format=luigi.format.Nop\n",
        "        )\n",
        "\n",
        "    def run(self):\n",
        "        with self.input().open(\"r\") as i:\n",
        "            word_count = Counter(i.read().split())\n",
        "\n",
        "            with self.output().open(\"w\") as outfile:\n",
        "                pickle.dump(word_count, outfile)"
      ],
      "metadata": {
        "id": "0QJi-6phUNSh"
      },
      "execution_count": null,
      "outputs": []
    },
    {
      "cell_type": "code",
      "source": [
        "class TopWords(luigi.Task):\n",
        "    \"\"\"\n",
        "    Aggregate the count results from the different files\n",
        "    \"\"\"\n",
        "\n",
        "    def requires(self):\n",
        "        requiredInputs = []\n",
        "        for i in range(GlobalParams().NumberBooks):\n",
        "            requiredInputs.append(CountWords(FileID=i))\n",
        "        return requiredInputs\n",
        "\n",
        "    def output(self):\n",
        "        return luigi.LocalTarget(\"data/summary.txt\")\n",
        "\n",
        "    def run(self):\n",
        "        total_count = Counter()\n",
        "        for input in self.input():\n",
        "            with input.open(\"rb\") as infile:\n",
        "                nextCounter = pickle.load(infile)\n",
        "                total_count += nextCounter\n",
        "\n",
        "        with self.output().open(\"w\") as f:\n",
        "            for item in total_count.most_common(GlobalParams().NumberTopWords):\n",
        "                f.write(\"{0: <15}{1}\\n\".format(*item))"
      ],
      "metadata": {
        "id": "8nAZMzkWUNg0"
      },
      "execution_count": null,
      "outputs": []
    }
  ]
}